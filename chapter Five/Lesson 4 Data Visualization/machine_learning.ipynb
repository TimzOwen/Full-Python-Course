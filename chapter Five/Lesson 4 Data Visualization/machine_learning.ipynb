{
 "cells": [
  {
   "cell_type": "code",
   "execution_count": 7,
   "metadata": {},
   "outputs": [],
   "source": [
    "# data visualization \n",
    "# step 1.\n",
    "# import the necessary modules\n",
    "\n",
    "import pandas as pd\n",
    "from sklearn.tree import DecisionTreeClassifier\n",
    "from sklearn import tree  # import this to allow us export the model in a graphical way"
   ]
  },
  {
   "cell_type": "code",
   "execution_count": 8,
   "metadata": {},
   "outputs": [],
   "source": [
    "# step 2\n",
    "# fit the model and split the data into training and testing\n",
    "music_data = pd.read_csv('music.csv')\n",
    "X = music_data.drop(columns=['genre'])\n",
    "y = music_data['genre']"
   ]
  },
  {
   "cell_type": "code",
   "execution_count": 9,
   "metadata": {},
   "outputs": [
    {
     "data": {
      "text/plain": [
       "DecisionTreeClassifier()"
      ]
     },
     "execution_count": 9,
     "metadata": {},
     "output_type": "execute_result"
    }
   ],
   "source": [
    "# step 3\n",
    "# make the model perform the prediction\n",
    "model = DecisionTreeClassifier()\n",
    "model.fit(X,y)"
   ]
  },
  {
   "cell_type": "code",
   "execution_count": 11,
   "metadata": {},
   "outputs": [],
   "source": [
    "# step 4:\n",
    "# export the model in '.dot' format. \n",
    "tree.export_graphviz(model,out_file='music_recommender.dot',\n",
    "                   feature_names=['age','gender'],\n",
    "                   class_names = sorted(y.unique()),\n",
    "                   label = 'all',\n",
    "                   rounded = True,\n",
    "                   filled = True)"
   ]
  },
  {
   "cell_type": "code",
   "execution_count": null,
   "metadata": {},
   "outputs": [],
   "source": [
    "# step 4 explanation:\n",
    "# filled --> each square be filled with a color\n",
    "# rounded --> each square has a round corner and not rectangle shape\n",
    "# all --> makes sure each data has a label in the square for readability\n",
    "# y.unique --> makes sure my there are not repeated data. avoids same list. (display different classes for classifying)\n",
    "# age and gender --> use to define rules for classification"
   ]
  }
 ],
 "metadata": {
  "kernelspec": {
   "display_name": "Python 3",
   "language": "python",
   "name": "python3"
  },
  "language_info": {
   "codemirror_mode": {
    "name": "ipython",
    "version": 3
   },
   "file_extension": ".py",
   "mimetype": "text/x-python",
   "name": "python",
   "nbconvert_exporter": "python",
   "pygments_lexer": "ipython3",
   "version": "3.8.5"
  }
 },
 "nbformat": 4,
 "nbformat_minor": 4
}
