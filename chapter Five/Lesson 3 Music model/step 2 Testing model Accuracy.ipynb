{
 "cells": [
  {
   "cell_type": "code",
   "execution_count": 40,
   "metadata": {},
   "outputs": [],
   "source": [
    "# import pandas lib\n",
    "import pandas as pd\n",
    "\n",
    "# import decision tree from sciklearn\n",
    "from sklearn.tree import DecisionTreeClassifier\n",
    "\n",
    "# step 1\n",
    "# import modules for testing a model's accuracy\n",
    "from sklearn.model_selection import train_test_split\n",
    "\n",
    "# step 5 \n",
    "#import the accuracy model checker\n",
    "from sklearn.metrics import accuracy_score"
   ]
  },
  {
   "cell_type": "code",
   "execution_count": 39,
   "metadata": {},
   "outputs": [],
   "source": [
    "#load the data into pandas\n",
    "music_data = pd.read_csv('music.csv')\n"
   ]
  },
  {
   "cell_type": "code",
   "execution_count": 73,
   "metadata": {},
   "outputs": [],
   "source": [
    "# split the data (\"cleaning the data\").\n",
    "# separate the output from other columns\n",
    "X = music_data.drop(columns = ['genre'])\n",
    "\n",
    "# now create an output dataset\n",
    "y = music_data['genre']\n",
    "\n",
    "#step 2\n",
    "# split the data into training and testing, assign variables returned from a tuple of 4 values\n",
    "X_train, X_test, y_train, y_test = train_test_split(X, y, test_size=0.2)"
   ]
  },
  {
   "cell_type": "code",
   "execution_count": 75,
   "metadata": {},
   "outputs": [
    {
     "data": {
      "text/plain": [
       "0.2"
      ]
     },
     "execution_count": 75,
     "metadata": {},
     "output_type": "execute_result"
    }
   ],
   "source": [
    "# now create an an algorithm that will help predict\n",
    "# use Decision trees from scikilearn\n",
    "# import it from the top\n",
    "\n",
    "#create an instance of the model \n",
    "model = DecisionTreeClassifier()\n",
    "\n",
    "# step 3. \n",
    "# change the model to now take in the x & y train\n",
    "# feed the model with training data\n",
    "model.fit(X_train, y_train)\n",
    "\n",
    "# step 4 \n",
    "# change the model to predict the 20% set test size\n",
    "\n",
    "# now let the model predict the data\n",
    "model_prediction = model.predict(X_test)\n",
    "\n",
    "# step 6\n",
    "# now pass in the values for test and expected predicitons\n",
    "score = accuracy_score(y_test, model_prediction)\n",
    "score"
   ]
  },
  {
   "cell_type": "code",
   "execution_count": null,
   "metadata": {},
   "outputs": [],
   "source": []
  }
 ],
 "metadata": {
  "kernelspec": {
   "display_name": "Python 3",
   "language": "python",
   "name": "python3"
  },
  "language_info": {
   "codemirror_mode": {
    "name": "ipython",
    "version": 3
   },
   "file_extension": ".py",
   "mimetype": "text/x-python",
   "name": "python",
   "nbconvert_exporter": "python",
   "pygments_lexer": "ipython3",
   "version": "3.8.5"
  }
 },
 "nbformat": 4,
 "nbformat_minor": 4
}
