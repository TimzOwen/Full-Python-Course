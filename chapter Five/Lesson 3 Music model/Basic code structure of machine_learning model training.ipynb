{
 "cells": [
  {
   "cell_type": "code",
   "execution_count": 40,
   "metadata": {},
   "outputs": [],
   "source": [
    "# import pandas lib\n",
    "import pandas as pd\n",
    "\n",
    "# import decision tree from sciklearn\n",
    "from sklearn.tree import DecisionTreeClassifier\n",
    "\n",
    "#load the data into pandas\n",
    "music_data = pd.read_csv('music.csv')\n",
    "\n",
    "# split the data (\"cleaning the data\").\n",
    "# separate the output from other columns\n",
    "X = music_data.drop(columns = ['genre'])\n",
    "\n",
    "# now create an output dataset\n",
    "y = music_data['genre']\n",
    "\n",
    "#create an instance of the model \n",
    "model = DecisionTreeClassifier()\n",
    "\n",
    "# feed the model with training data\n",
    "model.fit(X, y)\n",
    "\n",
    "# now let the model predict the data\n",
    "model_prediction = model.predict(X_test)\n",
    "\n"
   ]
  }
 ],
 "metadata": {
  "kernelspec": {
   "display_name": "Python 3",
   "language": "python",
   "name": "python3"
  },
  "language_info": {
   "codemirror_mode": {
    "name": "ipython",
    "version": 3
   },
   "file_extension": ".py",
   "mimetype": "text/x-python",
   "name": "python",
   "nbconvert_exporter": "python",
   "pygments_lexer": "ipython3",
   "version": "3.8.5"
  }
 },
 "nbformat": 4,
 "nbformat_minor": 4
}
